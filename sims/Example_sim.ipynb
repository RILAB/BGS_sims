{
 "cells": [
  {
   "cell_type": "code",
   "execution_count": 1,
   "metadata": {
    "collapsed": false
   },
   "outputs": [
    {
     "name": "stdout",
     "output_type": "stream",
     "text": [
      "Populating the interactive namespace from numpy and matplotlib\n"
     ]
    }
   ],
   "source": [
    "#!/bin/env python\n",
    "%matplotlib inline\n",
    "%pylab inline\n",
    "import matplotlib.pyplot as plt\n",
    "import fwdpy11 as fp11\n",
    "import fwdpy11.wright_fisher as wf\n",
    "import fwdpy11.model_params as model_params\n",
    "import numpy as np\n",
    "import fwdpy11.sampling\n",
    "import libsequence.polytable as polyt\n",
    "from libsequence.summstats import PolySIM\n",
    "import pandas as pd\n",
    "from libsequence.windows import Windows\n",
    "import sys\n",
    "import pickle\n",
    "figsize(12, 6)"
   ]
  },
  {
   "cell_type": "markdown",
   "metadata": {},
   "source": [
    "# Simulation of Background selection with maize and human demography"
   ]
  },
  {
   "cell_type": "markdown",
   "metadata": {},
   "source": [
    "Simulating a 100 kb region consising of 25 4kb segnemts where central segment has 3/4 deleterious mutations while all other mutations are neutral."
   ]
  },
  {
   "cell_type": "markdown",
   "metadata": {},
   "source": [
    "### Initial population size"
   ]
  },
  {
   "cell_type": "code",
   "execution_count": 2,
   "metadata": {
    "collapsed": true
   },
   "outputs": [],
   "source": [
    "Nstart = int(1e4)"
   ]
  },
  {
   "cell_type": "markdown",
   "metadata": {},
   "source": [
    "## European human demography"
   ]
  },
  {
   "cell_type": "code",
   "execution_count": 3,
   "metadata": {
    "collapsed": false
   },
   "outputs": [
    {
     "name": "stdout",
     "output_type": "stream",
     "text": [
      "3440\n"
     ]
    }
   ],
   "source": [
    "OOA_bottleneck_size = int(0.322*Nstart)\n",
    "OOA_time = int(0.109*2*Nstart) # 2180\n",
    "European_bottleneck_size = 0.185*Nstart\n",
    "European_bottleneck_time = int(0.053*2*Nstart) #1060\n",
    "final_European_size = 4.44*Nstart\n",
    "\n",
    "before = np.array([Nstart]*200,dtype=np.uint32)\n",
    "OOA_bottleneck = np.array([OOA_bottleneck_size]*OOA_time,dtype=np.uint32)\n",
    "x = np.linspace(np.log(European_bottleneck_size), np.log(final_European_size), European_bottleneck_time)\n",
    "European_bottleneck = np.exp(x).round().astype(np.int32)\n",
    "demog_euro = np.concatenate((before,OOA_bottleneck,European_bottleneck)).astype(np.int32)\n",
    "print(len(demog_euro))\n",
    "#plt.plot(demog_euro, linewidth=4.0)\n",
    "#plt.ylabel('N')\n",
    "#plt.xlabel('Generation')\n",
    "#savefig('../figures/demog_euro.png', bbox_inches='tight',dpi=300)"
   ]
  },
  {
   "cell_type": "markdown",
   "metadata": {},
   "source": [
    "## Maize demography"
   ]
  },
  {
   "cell_type": "code",
   "execution_count": 4,
   "metadata": {
    "collapsed": false
   },
   "outputs": [
    {
     "name": "stdout",
     "output_type": "stream",
     "text": [
      "3440\n"
     ]
    }
   ],
   "source": [
    "Npresent = 3*Nstart\n",
    "Nbneck = 0.05*Nstart\n",
    "bneck_time = int(0.1*Nstart)\n",
    "x = np.linspace(np.log(Nbneck), np.log(Npresent), bneck_time)\n",
    "bneckpop = np.exp(x).round().astype(np.int32)\n",
    "\n",
    "before = np.array([Nstart]*int(0.2440*Nstart),dtype=np.uint32) # Matched for Human demography\n",
    "demog_maize = np.concatenate((before,bneckpop)).astype(np.int32)\n",
    "print(len(demog_maize))\n",
    "#plt.plot(demog_maize, linewidth=4.0)\n",
    "#plt.ylabel('N')\n",
    "#plt.xlabel('Generation')\n",
    "#savefig('../figures/demog_maize.png', bbox_inches='tight',dpi=300)"
   ]
  },
  {
   "cell_type": "code",
   "execution_count": 5,
   "metadata": {
    "collapsed": false
   },
   "outputs": [
    {
     "data": {
      "text/plain": [
       "<matplotlib.legend.Legend at 0x106bff940>"
      ]
     },
     "execution_count": 5,
     "metadata": {},
     "output_type": "execute_result"
    },
    {
     "data": {
      "image/png": "[encoded data removed]",
      "text/plain": [
       "<matplotlib.figure.Figure at 0x10d474d30>"
      ]
     },
     "metadata": {},
     "output_type": "display_data"
    }
   ],
   "source": [
    "plt.plot(demog_maize, linewidth=4.0,label='Maize')\n",
    "plt.plot(demog_euro, linewidth=4.0,label='Europeans')\n",
    "plt.ylabel('N')\n",
    "plt.xlabel('Generation')\n",
    "plt.legend()\n",
    "#savefig('../figures/demog_maize_euro.png', bbox_inches='tight',dpi=300)"
   ]
  },
  {
   "cell_type": "markdown",
   "metadata": {},
   "source": [
    "## General parameters\n",
    "### burnin demography\n",
    "Constant population size for 10N generations to reach equilibrium"
   ]
  },
  {
   "cell_type": "code",
   "execution_count": 6,
   "metadata": {
    "collapsed": true
   },
   "outputs": [],
   "source": [
    "nlist=np.array([Nstart]*int(10*Nstart),dtype=np.uint32)"
   ]
  },
  {
   "cell_type": "markdown",
   "metadata": {},
   "source": [
    "### Regions\n",
    "- 1 locus with 25 segments of 4kb each.\n",
    "- central region with deleterious sites (negative s) following a $\\gamma$ distribution with mean of $5*10^{-3}$ and shape 0.3\n",
    "- 3/4 of mutations in cental region are deleterious and 1/4 are neutral\n",
    "- mutation rates are constant at $3*10^{-7}$ per bp\n",
    "- recombination rate equals mutation rate\n"
   ]
  },
  {
   "cell_type": "code",
   "execution_count": 7,
   "metadata": {
    "collapsed": true
   },
   "outputs": [],
   "source": [
    "rng2=fp11.GSLrng(101)\n",
    "pop1=fp11.SlocusPop(Nstart)\n",
    "\n",
    "\n",
    "# regions\n",
    "sregion = [fp11.GammaS(12, 13, 0.75, -5e-3,0.3, coupled=True)]\n",
    "#sregion = []\n",
    "nregion = [fp11.Region(i,i+1,1, coupled=True) for i in range(12)] + \\\n",
    "          [fp11.Region(12,13,0.25, coupled=True)] +\\\n",
    "          [fp11.Region(i,i+1,1, coupled=True) for i in range(13,25)]\n",
    "\n",
    "\n",
    "p = {'nregions':nregion,\n",
    "'sregions': sregion,\n",
    "'recregions':[fp11.Region(0,25,1)],\n",
    "'rates':(0.03,0.03,0.03),\n",
    "'demography':nlist,\n",
    "}\n",
    "\n",
    "params = fp11.model_params.SlocusParams(**p)"
   ]
  },
  {
   "cell_type": "markdown",
   "metadata": {},
   "source": [
    "## run burnin"
   ]
  },
  {
   "cell_type": "code",
   "execution_count": 8,
   "metadata": {
    "collapsed": false
   },
   "outputs": [
    {
     "name": "stdout",
     "output_type": "stream",
     "text": [
      "burnin done\n"
     ]
    }
   ],
   "source": [
    "wf.evolve(rng2, pop1,params)\n",
    "print('burnin done')"
   ]
  },
  {
   "cell_type": "markdown",
   "metadata": {},
   "source": [
    "Copying the burnin population to use the same burnin for maize and human sims"
   ]
  },
  {
   "cell_type": "code",
   "execution_count": 9,
   "metadata": {
    "collapsed": false
   },
   "outputs": [
    {
     "name": "stdout",
     "output_type": "stream",
     "text": [
      "True\n"
     ]
    }
   ],
   "source": [
    "ppop = pickle.dumps(pop1,-1)\n",
    "pop2 = pickle.loads(ppop)\n",
    "print(pop1==pop2)"
   ]
  },
  {
   "cell_type": "markdown",
   "metadata": {},
   "source": [
    "## Recorder for $\\pi$ and singeltons"
   ]
  },
  {
   "cell_type": "code",
   "execution_count": 10,
   "metadata": {
    "collapsed": true
   },
   "outputs": [],
   "source": [
    "def str2byte(tup,fmtstring):\n",
    "    byte_tup = (tup[0],bytearray(tup[1],fmtstring))\n",
    "    return(byte_tup)\n",
    "\n",
    "class neutral_div:\n",
    "    def __init__(self):\n",
    "        self.values = []#[['gen']+[i for i in range(25)]]\n",
    "        self.singleton = []#[['gen'] + [i for i in range(25)]]\n",
    "    def __call__(self, pop):\n",
    "        if pop.generation % 100 == 0:\n",
    "            samp = fp11.sampling.sample_separate(rng2, pop, 500, True)\n",
    "            neutral_sample = polyt.SimData([str2byte(mut, 'utf-8') for mut in samp[0]])\n",
    "            w = Windows(neutral_sample, window_size=1, step_len=1, starting_pos=0., ending_pos=25.0)\n",
    "            window_pi = [PolySIM(w[i]).thetapi() for i in range(len(w))]\n",
    "            window_singleton = [PolySIM(w[i]).numsingletons() for i in range(len(w))]\n",
    "            self.values.append([pop.generation]+window_pi)\n",
    "            self.singleton.append([pop.generation]+window_singleton)"
   ]
  },
  {
   "cell_type": "markdown",
   "metadata": {},
   "source": [
    "## Run Maize"
   ]
  },
  {
   "cell_type": "code",
   "execution_count": 11,
   "metadata": {
    "collapsed": false
   },
   "outputs": [
    {
     "name": "stdout",
     "output_type": "stream",
     "text": [
      "GEN maize 100000\n"
     ]
    }
   ],
   "source": [
    "p['demography'] = demog_maize\n",
    "params = fp11.model_params.SlocusParams(**p)\n",
    "rec1=neutral_div()\n",
    "print('GEN maize',pop1.generation)\n",
    "\n",
    "wf.evolve(rng2, pop1,params,rec1)"
   ]
  },
  {
   "cell_type": "code",
   "execution_count": 12,
   "metadata": {
    "collapsed": false
   },
   "outputs": [],
   "source": [
    "pi_maize = pd.DataFrame(rec1.values[1:],columns=rec1.values[0])\n",
    "#pi_maize.to_csv(\"results/tmp_s5E-3/sim_neutralPi_maize_s5E-3_%d.csv\"%run,index=False,header=False)\n",
    "\n",
    "\n",
    "singleton_maize = pd.DataFrame(rec1.singleton[1:],columns=rec1.singleton[0])\n",
    "#singleton_maize.to_csv(\"results/tmp_s5E-3/sim_singleton_maize_s5E-3_%d.csv\"%run,index=False,header=False)"
   ]
  },
  {
   "cell_type": "markdown",
   "metadata": {},
   "source": [
    "## Run Europenan humans"
   ]
  },
  {
   "cell_type": "code",
   "execution_count": 13,
   "metadata": {
    "collapsed": false
   },
   "outputs": [
    {
     "name": "stdout",
     "output_type": "stream",
     "text": [
      "GEN euro 100000\n"
     ]
    }
   ],
   "source": [
    "p['demography'] = demog_euro\n",
    "params = fp11.model_params.SlocusParams(**p)\n",
    "rec1=neutral_div()\n",
    "print('GEN euro',pop2.generation)\n",
    "wf.evolve(rng2, pop2,params,rec1)"
   ]
  },
  {
   "cell_type": "code",
   "execution_count": 14,
   "metadata": {
    "collapsed": true
   },
   "outputs": [],
   "source": [
    "pi_european = pd.DataFrame(rec1.values[1:],columns=rec1.values[0])\n",
    "#pi_european.to_csv(\"results/tmp_s5E-3/sim_neutralPi_European_s5E-3_%d.csv\"%run,index=False,header=False)\n",
    "\n",
    "\n",
    "singleton_european = pd.DataFrame(rec1.singleton[1:],columns=rec1.singleton[0])\n",
    "#singleton_european.to_csv(\"results/tmp_s5E-3/sim_singleton_European_s5E-3_%d.csv\"%run,index=False,header=False)\n"
   ]
  },
  {
   "cell_type": "code",
   "execution_count": null,
   "metadata": {
    "collapsed": true
   },
   "outputs": [],
   "source": []
  }
 ],
 "metadata": {
  "kernelspec": {
   "display_name": "Python 3",
   "language": "python",
   "name": "python3"
  },
  "language_info": {
   "codemirror_mode": {
    "name": "ipython",
    "version": 3
   },
   "file_extension": ".py",
   "mimetype": "text/x-python",
   "name": "python",
   "nbconvert_exporter": "python",
   "pygments_lexer": "ipython3",
   "version": "3.6.0"
  }
 },
 "nbformat": 4,
 "nbformat_minor": 2
}
