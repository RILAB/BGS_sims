{
 "cells": [
  {
   "cell_type": "code",
   "execution_count": 1,
   "metadata": {},
   "outputs": [
    {
     "name": "stdout",
     "output_type": "stream",
     "text": [
      "Populating the interactive namespace from numpy and matplotlib\n"
     ]
    }
   ],
   "source": [
    "#!/bin/env python\n",
    "%matplotlib inline\n",
    "%pylab inline\n",
    "import matplotlib.pyplot as plt\n",
    "import fwdpy11 as fp11\n",
    "import fwdpy11.wright_fisher as wf\n",
    "import fwdpy11.model_params as model_params\n",
    "import numpy as np\n",
    "import fwdpy11.sampling\n",
    "import libsequence.polytable as polyt\n",
    "from libsequence.summstats import PolySIM\n",
    "import pandas as pd\n",
    "from libsequence.windows import Windows\n",
    "import sys\n",
    "import pickle\n",
    "import seaborn as sns\n",
    "sns.set_style(\"white\")\n",
    "sns.set_context(\"talk\")\n",
    "\n",
    "figsize(12, 6)"
   ]
  },
  {
   "cell_type": "markdown",
   "metadata": {},
   "source": [
    "# European Humans"
   ]
  },
  {
   "cell_type": "markdown",
   "metadata": {},
   "source": [
    "## Torres model"
   ]
  },
  {
   "cell_type": "code",
   "execution_count": 2,
   "metadata": {
    "collapsed": true
   },
   "outputs": [],
   "source": [
    "Nstart = 18449"
   ]
  },
  {
   "cell_type": "markdown",
   "metadata": {},
   "source": [
    "### 200 Generations of constant size"
   ]
  },
  {
   "cell_type": "code",
   "execution_count": 3,
   "metadata": {
    "collapsed": true
   },
   "outputs": [],
   "source": [
    "before = np.array([Nstart]*200,dtype=np.uint32)\n"
   ]
  },
  {
   "cell_type": "markdown",
   "metadata": {},
   "source": [
    "### Demographic event 1: ancestral growth"
   ]
  },
  {
   "cell_type": "code",
   "execution_count": 4,
   "metadata": {},
   "outputs": [
    {
     "data": {
      "text/plain": [
       "array([38873, 38873, 38873, ..., 38873, 38873, 38873], dtype=uint32)"
      ]
     },
     "execution_count": 4,
     "metadata": {},
     "output_type": "execute_result"
    }
   ],
   "source": [
    "ancestral_expansion_size = 2.10709*Nstart\n",
    "ancestral_expansion_time_span = int(0.437017*2*Nstart)\n",
    "ancestral_expansion = np.array([ancestral_expansion_size]*ancestral_expansion_time_span,dtype=np.uint32)\n",
    "ancestral_expansion\n"
   ]
  },
  {
   "cell_type": "markdown",
   "metadata": {},
   "source": [
    "### Demographic event 2: Out-of-Africa (OOA) bottleneck"
   ]
  },
  {
   "cell_type": "code",
   "execution_count": 5,
   "metadata": {},
   "outputs": [
    {
     "data": {
      "text/plain": [
       "array([5946, 5946, 5946, ..., 5946, 5946, 5946], dtype=uint32)"
      ]
     },
     "execution_count": 5,
     "metadata": {},
     "output_type": "execute_result"
    }
   ],
   "source": [
    "OOA_bottleneck_size = 0.322295*Nstart\n",
    "OOA_bottleneck_time_span = int(0.109481*2*Nstart) # 2180\n",
    "OOA_bottleneck = np.array([OOA_bottleneck_size]*OOA_bottleneck_time_span,dtype=np.uint32)\n",
    "OOA_bottleneck"
   ]
  },
  {
   "cell_type": "markdown",
   "metadata": {},
   "source": [
    "### Demographic event 3: European population bottleneck followed by immediate exponential growth"
   ]
  },
  {
   "cell_type": "code",
   "execution_count": 6,
   "metadata": {
    "collapsed": true
   },
   "outputs": [],
   "source": [
    "European_bottleneck_size = 0.184986*Nstart\n",
    "European_bottleneck_growth_time_span = int(0.0529262*2*Nstart) #1060\n",
    "final_European_size = 4.43931*Nstart\n",
    "x = np.linspace(np.log(European_bottleneck_size), np.log(final_European_size), European_bottleneck_growth_time_span)\n",
    "European_bottleneck = np.exp(x).round().astype(np.int32)\n"
   ]
  },
  {
   "cell_type": "code",
   "execution_count": 7,
   "metadata": {},
   "outputs": [
    {
     "name": "stdout",
     "output_type": "stream",
     "text": [
      "total generations: 22116\n"
     ]
    }
   ],
   "source": [
    "demog_torres = np.concatenate((before,ancestral_expansion,OOA_bottleneck,European_bottleneck)).astype(np.int32)\n",
    "print('total generations:',(ancestral_expansion_time_span+OOA_bottleneck_time_span+European_bottleneck_growth_time_span))"
   ]
  },
  {
   "cell_type": "code",
   "execution_count": 8,
   "metadata": {
    "collapsed": true
   },
   "outputs": [],
   "source": [
    "torres_df = pd.DataFrame(demog_torres,columns=['N'])\n",
    "torres_df['generation'] = (torres_df.index - 200)/Nstart\n",
    "torres_df.to_csv('torres.csv',index=False)"
   ]
  },
  {
   "cell_type": "markdown",
   "metadata": {},
   "source": [
    "## Tennessen model"
   ]
  },
  {
   "cell_type": "code",
   "execution_count": 9,
   "metadata": {
    "collapsed": true
   },
   "outputs": [],
   "source": [
    "Nstart = 7310"
   ]
  },
  {
   "cell_type": "markdown",
   "metadata": {},
   "source": [
    "### 200 Generations of constant size"
   ]
  },
  {
   "cell_type": "code",
   "execution_count": 10,
   "metadata": {
    "collapsed": true
   },
   "outputs": [],
   "source": [
    "before = np.array([Nstart]*200,dtype=np.uint32)\n"
   ]
  },
  {
   "cell_type": "markdown",
   "metadata": {},
   "source": [
    "### Demographic event 1: ancestral growth"
   ]
  },
  {
   "cell_type": "code",
   "execution_count": 11,
   "metadata": {},
   "outputs": [
    {
     "data": {
      "text/plain": [
       "array([14473, 14473, 14473, ..., 14473, 14473, 14473], dtype=uint32)"
      ]
     },
     "execution_count": 11,
     "metadata": {},
     "output_type": "execute_result"
    }
   ],
   "source": [
    "ancestral_expansion_size = 1.98*Nstart\n",
    "ancestral_expansion_time_span = int(0.264196*2*Nstart)\n",
    "ancestral_expansion = np.array([ancestral_expansion_size]*ancestral_expansion_time_span,dtype=np.uint32)\n",
    "ancestral_expansion"
   ]
  },
  {
   "cell_type": "markdown",
   "metadata": {},
   "source": [
    "### Demographic event 2: Out-of-Africa (OOA) bottleneck"
   ]
  },
  {
   "cell_type": "code",
   "execution_count": 12,
   "metadata": {},
   "outputs": [
    {
     "data": {
      "text/plain": [
       "array([1861, 1861, 1861, ..., 1861, 1861, 1861], dtype=uint32)"
      ]
     },
     "execution_count": 12,
     "metadata": {},
     "output_type": "execute_result"
    }
   ],
   "source": [
    "OOA_bottleneck_size = 0.254609*Nstart \n",
    "OOA_bottleneck_time_span = int(0.0763702*2*Nstart)\n",
    "OOA_bottleneck = np.array([OOA_bottleneck_size]*OOA_bottleneck_time_span,dtype=np.uint32)\n",
    "OOA_bottleneck"
   ]
  },
  {
   "cell_type": "markdown",
   "metadata": {},
   "source": [
    "### Demographic event 3: Demographic event 3: European bottleneck followed by intermediate exponential growth"
   ]
  },
  {
   "cell_type": "code",
   "execution_count": 13,
   "metadata": {
    "collapsed": true
   },
   "outputs": [],
   "source": [
    "European_bottleneck_size = 0.141184*Nstart\n",
    "intermediate_European_size = 1.339863*Nstart #this is the size after the end of intermediate exponential growth and before the start of accelerated growth (see below)\n",
    "European_bottleneck_intermediate_exponential_growth_time_span = int(0.0502841*2*Nstart)\n",
    "x = np.linspace(np.log(European_bottleneck_size), np.log(intermediate_European_size), European_bottleneck_intermediate_exponential_growth_time_span)\n",
    "European_intermediate = np.exp(x).round().astype(np.int32)"
   ]
  },
  {
   "cell_type": "markdown",
   "metadata": {},
   "source": [
    "### Demographic event 4: final accelerated exponential growth"
   ]
  },
  {
   "cell_type": "code",
   "execution_count": 14,
   "metadata": {
    "collapsed": true
   },
   "outputs": [],
   "source": [
    "final_European_size = 70.048896039 *Nstart #this is the size after the end of accelerated exponential growth (contemporary European effective size)\n",
    "final_accelerated_exponential_growth_time_span = int(0.0139949*2*Nstart)\n",
    "x = np.linspace(np.log(intermediate_European_size), np.log(final_European_size), final_accelerated_exponential_growth_time_span)\n",
    "European_final = np.exp(x).round().astype(np.int32)"
   ]
  },
  {
   "cell_type": "code",
   "execution_count": 15,
   "metadata": {},
   "outputs": [
    {
     "name": "stdout",
     "output_type": "stream",
     "text": [
      "total generations: 5917\n"
     ]
    }
   ],
   "source": [
    "demog_tennessen = np.concatenate((before,ancestral_expansion,OOA_bottleneck,European_intermediate,European_final)).astype(np.int32)\n",
    "\n",
    "print('total generations:',(ancestral_expansion_time_span+OOA_bottleneck_time_span+European_bottleneck_intermediate_exponential_growth_time_span+final_accelerated_exponential_growth_time_span))\n",
    "      "
   ]
  },
  {
   "cell_type": "code",
   "execution_count": 16,
   "metadata": {
    "collapsed": true
   },
   "outputs": [],
   "source": [
    "tennessen_df = pd.DataFrame(demog_tennessen,columns=['N'])\n",
    "tennessen_df['generation'] = (tennessen_df.index - 200)/Nstart\n",
    "tennessen_df.to_csv('tennessen.csv',index=False)"
   ]
  },
  {
   "cell_type": "markdown",
   "metadata": {},
   "source": [
    "# Maize"
   ]
  },
  {
   "cell_type": "code",
   "execution_count": 17,
   "metadata": {
    "collapsed": true
   },
   "outputs": [],
   "source": [
    "Nstart = 12278#3"
   ]
  },
  {
   "cell_type": "markdown",
   "metadata": {},
   "source": [
    "### 200 Generations of constant size"
   ]
  },
  {
   "cell_type": "code",
   "execution_count": 18,
   "metadata": {
    "collapsed": true
   },
   "outputs": [],
   "source": [
    "before = np.array([Nstart]*200,dtype=np.uint32)\n"
   ]
  },
  {
   "cell_type": "code",
   "execution_count": 19,
   "metadata": {
    "collapsed": true
   },
   "outputs": [],
   "source": [
    "Nbneck = 0.0526*Nstart\n",
    "Nfinal = 2.98*Nstart\n",
    "bneck_time = int(0.12*Nstart)\n",
    "x = np.linspace(np.log(Nbneck), np.log(Nfinal), bneck_time)\n",
    "bneck_maize = np.exp(x).round().astype(np.int32)\n",
    "demog_maize = np.concatenate((before,bneck_maize)).astype(np.int32)\n"
   ]
  },
  {
   "cell_type": "code",
   "execution_count": 20,
   "metadata": {
    "collapsed": true
   },
   "outputs": [],
   "source": [
    "maize_df = pd.DataFrame(demog_maize,columns=['N'])\n",
    "maize_df['generation'] = (maize_df.index - 200)/Nstart\n",
    "#maize_df.to_csv('maize.csv',index=False)"
   ]
  },
  {
   "cell_type": "code",
   "execution_count": 21,
   "metadata": {
    "scrolled": false
   },
   "outputs": [
    {
     "data": {
      "image/png": "[encoded data removed]",
      "text/plain": [
       "<matplotlib.figure.Figure at 0x110ae0b00>"
      ]
     },
     "metadata": {},
     "output_type": "display_data"
    }
   ],
   "source": [
    "plt.plot(tennessen_df.generation,tennessen_df.N, linewidth=4.0,label='Tennessen')\n",
    "plt.plot(torres_df.generation,torres_df.N, linewidth=4.0,label='Torres')\n",
    "plt.plot(maize_df.generation,maize_df.N, linewidth=4.0,label='Maize')\n",
    "plt.yscale('log')\n",
    "plt.ylabel('N')\n",
    "plt.xlabel('Generation (x Nanc)')\n",
    "plt.legend()\n",
    "plt.legend(bbox_to_anchor=(1.05, 1), loc=2, borderaxespad=0.)\n",
    "savefig('real_life_demographies.png', bbox_inches='tight')"
   ]
  },
  {
   "cell_type": "markdown",
   "metadata": {},
   "source": [
    "# Generic models"
   ]
  },
  {
   "cell_type": "code",
   "execution_count": 22,
   "metadata": {
    "collapsed": true
   },
   "outputs": [],
   "source": [
    "Nstart = 20000"
   ]
  },
  {
   "cell_type": "code",
   "execution_count": 23,
   "metadata": {},
   "outputs": [],
   "source": [
    "bneck_weak = int(0.1*Nstart)\n",
    "bneck_strong = int(0.02*Nstart)\n",
    "bneck_short = int(0*Nstart)\n",
    "bneck_long = int(0.05 *Nstart)\n",
    "bneck_old = int(1*Nstart)\n",
    "bneck_recent = int(0.1*Nstart)\n",
    "Nfinal = int(10*Nstart)"
   ]
  },
  {
   "cell_type": "code",
   "execution_count": 24,
   "metadata": {
    "collapsed": true
   },
   "outputs": [],
   "source": [
    "before = np.array([Nstart]*200,dtype=np.uint32)"
   ]
  },
  {
   "cell_type": "code",
   "execution_count": 25,
   "metadata": {},
   "outputs": [],
   "source": [
    "for_recent = np.array([Nstart]*int(0.9*Nstart),dtype=np.uint32)\n",
    "long_weak_bneck = np.array([bneck_weak]*bneck_long,dtype=np.uint32)\n",
    "long_strong_bneck = np.array([bneck_strong]*bneck_long,dtype=np.uint32)\n"
   ]
  },
  {
   "cell_type": "markdown",
   "metadata": {},
   "source": [
    "## Model 1\n",
    "Constant size"
   ]
  },
  {
   "cell_type": "code",
   "execution_count": 26,
   "metadata": {
    "collapsed": true
   },
   "outputs": [],
   "source": [
    "model1 = np.concatenate((before,np.array([Nstart]*int(Nstart),dtype=np.uint32))).astype(np.int32)"
   ]
  },
  {
   "cell_type": "markdown",
   "metadata": {},
   "source": [
    "## Model 2\n",
    "Weak bottleneck followed by immediate exponential growth"
   ]
  },
  {
   "cell_type": "code",
   "execution_count": 27,
   "metadata": {},
   "outputs": [],
   "source": [
    "x = np.linspace(np.log(bneck_weak), np.log(Nfinal), bneck_old)\n",
    "demog = np.exp(x).round().astype(np.int32)\n",
    "\n",
    "model2 = np.concatenate((before,demog)).astype(np.int32)"
   ]
  },
  {
   "cell_type": "markdown",
   "metadata": {},
   "source": [
    "## Model 3\n",
    "Strong bottleneck followed by immediate exponential growth"
   ]
  },
  {
   "cell_type": "code",
   "execution_count": 28,
   "metadata": {
    "collapsed": true
   },
   "outputs": [],
   "source": [
    "x = np.linspace(np.log(bneck_strong), np.log(Nfinal), bneck_old)\n",
    "demog = np.exp(x).round().astype(np.int32)\n",
    "\n",
    "model3 = np.concatenate((before,demog)).astype(np.int32)"
   ]
  },
  {
   "cell_type": "markdown",
   "metadata": {},
   "source": [
    "## Model 4\n",
    "Weak long bottleneck followed by exponential growth\n"
   ]
  },
  {
   "cell_type": "code",
   "execution_count": 29,
   "metadata": {
    "collapsed": true
   },
   "outputs": [],
   "source": [
    "x = np.linspace(np.log(bneck_weak), np.log(Nfinal), bneck_old-bneck_long)\n",
    "demog = np.exp(x).round().astype(np.int32)\n",
    "\n",
    "model4 = np.concatenate((before,long_weak_bneck,demog)).astype(np.int32)"
   ]
  },
  {
   "cell_type": "markdown",
   "metadata": {},
   "source": [
    "## Model 5\n",
    "Strong long bottleneck followed by exponential growth\n"
   ]
  },
  {
   "cell_type": "code",
   "execution_count": 30,
   "metadata": {
    "collapsed": true
   },
   "outputs": [],
   "source": [
    "x = np.linspace(np.log(bneck_strong), np.log(Nfinal), bneck_old-bneck_long)\n",
    "demog = np.exp(x).round().astype(np.int32)\n",
    "model5 = np.concatenate((before,long_strong_bneck,demog)).astype(np.int32)"
   ]
  },
  {
   "cell_type": "markdown",
   "metadata": {},
   "source": [
    "## Model 6\n",
    "Recent weak bottleneck followed by immediate exponential growth"
   ]
  },
  {
   "cell_type": "code",
   "execution_count": 31,
   "metadata": {
    "collapsed": true
   },
   "outputs": [],
   "source": [
    "x = np.linspace(np.log(bneck_weak), np.log(Nfinal), bneck_recent)\n",
    "demog = np.exp(x).round().astype(np.int32)\n",
    "model6 = np.concatenate((before,for_recent,demog)).astype(np.int32)"
   ]
  },
  {
   "cell_type": "markdown",
   "metadata": {},
   "source": [
    "## Model 7\n",
    "Recent strong bottlebeck followed by immediate exponential growth"
   ]
  },
  {
   "cell_type": "code",
   "execution_count": 32,
   "metadata": {
    "collapsed": true
   },
   "outputs": [],
   "source": [
    "x = np.linspace(np.log(bneck_strong), np.log(Nfinal), bneck_recent)\n",
    "demog = np.exp(x).round().astype(np.int32)\n",
    "model7 = np.concatenate((before,for_recent,demog)).astype(np.int32)"
   ]
  },
  {
   "cell_type": "markdown",
   "metadata": {},
   "source": [
    "## Model 8\n",
    "Recent weak long bottleneck follwoed by exponential growth"
   ]
  },
  {
   "cell_type": "code",
   "execution_count": 33,
   "metadata": {},
   "outputs": [],
   "source": [
    "x = np.linspace(np.log(bneck_weak), np.log(Nfinal), bneck_recent-bneck_long)\n",
    "demog = np.exp(x).round().astype(np.int32)\n",
    "model8 = np.concatenate((before,for_recent,long_weak_bneck,demog)).astype(np.int32)"
   ]
  },
  {
   "cell_type": "markdown",
   "metadata": {},
   "source": [
    "## Model 9\n",
    "Recent strong long bottleneck follwoed by exponential growth"
   ]
  },
  {
   "cell_type": "code",
   "execution_count": 34,
   "metadata": {},
   "outputs": [],
   "source": [
    "x = np.linspace(np.log(bneck_strong), np.log(Nfinal), bneck_recent-bneck_long)\n",
    "demog = np.exp(x).round().astype(np.int32)\n",
    "model9 = np.concatenate((before,for_recent,long_strong_bneck,demog)).astype(np.int32)"
   ]
  },
  {
   "cell_type": "code",
   "execution_count": 35,
   "metadata": {},
   "outputs": [],
   "source": [
    "model_list=array([model1,model2,model3,model4,model5,model6,model7,model8,model9])"
   ]
  },
  {
   "cell_type": "code",
   "execution_count": 41,
   "metadata": {},
   "outputs": [
    {
     "data": {
      "text/plain": [
       "400"
      ]
     },
     "execution_count": 41,
     "metadata": {},
     "output_type": "execute_result"
    }
   ],
   "source": [
    "model = pd.DataFrame(model_list.transpose(),\n",
    "                    columns=['Model 1','Model 2','Model 3','Model 4','Model 5','Model 6','Model 7','Model 8','Model 9'])\n",
    "model['generation'] = (model.index - 200)/Nstart\n",
    "model.loc[model.generation<0.89,['Model 6','Model 7','Model 8','Model 9']] = np.NaN\n",
    "model.to_csv('generic_models.csv',index=False)\n",
    "min(model['Model 3'])"
   ]
  },
  {
   "cell_type": "code",
   "execution_count": 37,
   "metadata": {},
   "outputs": [
    {
     "data": {
      "image/png": "[encoded data removed]",
      "text/plain": [
       "<matplotlib.figure.Figure at 0x111f6b9e8>"
      ]
     },
     "metadata": {},
     "output_type": "display_data"
    }
   ],
   "source": [
    "model.plot(x='generation')\n",
    "plt.yscale('log')\n",
    "plt.ylabel('N')\n",
    "plt.xlabel('Generation (x Nanc)')\n",
    "plt.legend(bbox_to_anchor=(1.05, 1), loc=2, borderaxespad=0.)\n",
    "savefig('genetic_demographies.png', bbox_inches='tight')"
   ]
  },
  {
   "cell_type": "code",
   "execution_count": null,
   "metadata": {
    "collapsed": true
   },
   "outputs": [],
   "source": []
  }
 ],
 "metadata": {
  "kernelspec": {
   "display_name": "Python 3",
   "language": "python",
   "name": "python3"
  },
  "language_info": {
   "codemirror_mode": {
    "name": "ipython",
    "version": 3
   },
   "file_extension": ".py",
   "mimetype": "text/x-python",
   "name": "python",
   "nbconvert_exporter": "python",
   "pygments_lexer": "ipython3",
   "version": "3.6.0"
  }
 },
 "nbformat": 4,
 "nbformat_minor": 2
}
